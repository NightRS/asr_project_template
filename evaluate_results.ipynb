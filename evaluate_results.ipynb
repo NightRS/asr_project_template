{
  "nbformat": 4,
  "nbformat_minor": 0,
  "metadata": {
    "colab": {
      "provenance": []
    },
    "kernelspec": {
      "name": "python3",
      "display_name": "Python 3"
    },
    "language_info": {
      "name": "python"
    },
    "accelerator": "GPU",
    "gpuClass": "standard"
  },
  "cells": [
    {
      "cell_type": "code",
      "execution_count": null,
      "metadata": {
        "id": "M2o9wfkJnmhI"
      },
      "outputs": [],
      "source": [
        "!git clone https://github.com/NightRS/asr_project_template.git"
      ]
    },
    {
      "cell_type": "code",
      "source": [
        "%cd asr_project_template\n",
        "%pip install -r requirements.txt\n",
        "!git clone --recursive https://github.com/parlance/ctcdecode.git\n",
        "%cd ctcdecode\n",
        "%pip install .\n",
        "%cd .."
      ],
      "metadata": {
        "id": "KfsquXA4n9c9"
      },
      "execution_count": null,
      "outputs": []
    },
    {
      "cell_type": "code",
      "source": [
        "!mkdir default_test_model"
      ],
      "metadata": {
        "id": "fzvs72WnmtcA"
      },
      "execution_count": 5,
      "outputs": []
    },
    {
      "cell_type": "code",
      "source": [
        "!curl -L https://www.dropbox.com/s/fu0nvunieynin3h/config.json -o default_test_model/config.json\n",
        "!curl -L https://www.dropbox.com/s/ktqcvpeaffqbp4i/model_best.pth -o default_test_model/checkpoint.pth\n",
        "!curl -L https://www.dropbox.com/s/11vz3srlvloib00/default_test_config.json?dl=0 -o default_test_config.json"
      ],
      "metadata": {
        "id": "r4DpNyRPmrvc"
      },
      "execution_count": null,
      "outputs": []
    },
    {
      "cell_type": "code",
      "source": [
        "!python test.py -c default_test_config.json -r ./default_test_model/checkpoint.pth"
      ],
      "metadata": {
        "colab": {
          "base_uri": "https://localhost:8080/"
        },
        "id": "he_VuFMKrwBc",
        "outputId": "c906bc76-132b-41e6-e52e-3c36776c08b0"
      },
      "execution_count": 20,
      "outputs": [
        {
          "output_type": "stream",
          "name": "stdout",
          "text": [
            "Preparing librispeech folders: test-clean: 100% 87/87 [00:13<00:00,  6.31it/s]\n",
            "LinGRUModel(\n",
            "  (fc1): Linear(in_features=128, out_features=512, bias=True)\n",
            "  (fc2): Linear(in_features=512, out_features=512, bias=True)\n",
            "  (fc3): Linear(in_features=512, out_features=512, bias=True)\n",
            "  (rnn): GRU(512, 512, num_layers=3, batch_first=True, bidirectional=True)\n",
            "  (fc4): Linear(in_features=512, out_features=512, bias=True)\n",
            "  (fc5): Linear(in_features=512, out_features=28, bias=True)\n",
            "  (dropout): Dropout(p=0.05, inplace=False)\n",
            ")\n",
            "Trainable parameters: 13469724\n",
            "Loading checkpoint: ./default_test_model/checkpoint.pth ...\n",
            "100% 131/131 [08:16<00:00,  3.79s/it]\n"
          ]
        }
      ]
    },
    {
      "cell_type": "code",
      "source": [
        "!python eval.py"
      ],
      "metadata": {
        "colab": {
          "base_uri": "https://localhost:8080/"
        },
        "id": "4YIyC1cm7MtV",
        "outputId": "cc7d305a-d96e-4642-bc79-16f91821e729"
      },
      "execution_count": 21,
      "outputs": [
        {
          "output_type": "stream",
          "name": "stdout",
          "text": [
            "Evaluation results\n",
            "AVG CER (argmax)      18.85\n",
            "AVG CER (beam search) 17.74\n",
            "AVG WER (argmax)      54.54\n",
            "AVG WER (beam search) 51.24\n"
          ]
        }
      ]
    },
    {
      "cell_type": "code",
      "source": [],
      "metadata": {
        "id": "-unX2vBv7OjP"
      },
      "execution_count": null,
      "outputs": []
    }
  ]
}